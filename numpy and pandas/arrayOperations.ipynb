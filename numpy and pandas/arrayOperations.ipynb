{
 "cells": [
  {
   "cell_type": "code",
   "execution_count": 1,
   "metadata": {},
   "outputs": [],
   "source": [
    "import numpy as np"
   ]
  },
  {
   "cell_type": "markdown",
   "metadata": {},
   "source": [
    "Создайте массив , состоящий из 10 случайных целых чисел из диапазона от 1 до 20, затем создайте массив состоящий из 10 элементов, начиная с 2. Выведите значения этих массивов, а также их сумму, при помощи функции print()\n",
    "\n",
    "Создайте массив , состоящий из 7 случайных целых чисел из диапазона от 0 до 9, затем создайте новый массив состоящий из 7 элементов первого массива, увеличенных в 3 раза. Выведите значения этих массивов при помощи функции print()\n",
    "\n",
    "Создайте массив состоящий из квадратных корней 20 элементов по порядку, начиная с 7. Выведите значение массива при помощи функции print()"
   ]
  },
  {
   "cell_type": "code",
   "execution_count": 6,
   "metadata": {},
   "outputs": [
    {
     "name": "stdout",
     "output_type": "stream",
     "text": [
      "[15 13 18  4 15 17 18 15  1 17]\n",
      "[ 2  3  4  5  6  7  8  9 10 11]\n",
      "[17 16 22  9 21 24 26 24 11 28]\n"
     ]
    }
   ],
   "source": [
    "array = np.random.randint(1,21,10)\n",
    "array_2 = np.arange(2,12)\n",
    "print(array)\n",
    "print(array_2)\n",
    "print(array+array_2)"
   ]
  },
  {
   "cell_type": "code",
   "execution_count": 8,
   "metadata": {},
   "outputs": [
    {
     "name": "stdout",
     "output_type": "stream",
     "text": [
      "[8 0 6 5 5 6 2]\n",
      "[24  0 18 15 15 18  6]\n"
     ]
    }
   ],
   "source": [
    "array = np.random.randint(0,10,7)\n",
    "array_2 = array[:]\n",
    "print(array)\n",
    "print(array_2*3)\n"
   ]
  },
  {
   "cell_type": "code",
   "execution_count": 13,
   "metadata": {},
   "outputs": [
    {
     "name": "stdout",
     "output_type": "stream",
     "text": [
      "[2.64575131 2.82842712 3.         3.16227766 3.31662479 3.46410162\n",
      " 3.60555128 3.74165739 3.87298335 4.         4.12310563 4.24264069\n",
      " 4.35889894 4.47213595 4.58257569 4.69041576 4.79583152 4.89897949\n",
      " 5.         5.09901951]\n"
     ]
    }
   ],
   "source": [
    "array = np.arange(7,27)\n",
    "print(np.sqrt(array))"
   ]
  },
  {
   "cell_type": "code",
   "execution_count": null,
   "metadata": {},
   "outputs": [],
   "source": []
  }
 ],
 "metadata": {
  "kernelspec": {
   "display_name": "Python 3",
   "language": "python",
   "name": "python3"
  },
  "language_info": {
   "codemirror_mode": {
    "name": "ipython",
    "version": 3
   },
   "file_extension": ".py",
   "mimetype": "text/x-python",
   "name": "python",
   "nbconvert_exporter": "python",
   "pygments_lexer": "ipython3",
   "version": "3.7.3"
  }
 },
 "nbformat": 4,
 "nbformat_minor": 2
}
