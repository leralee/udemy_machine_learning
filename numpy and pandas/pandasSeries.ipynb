{
 "cells": [
  {
   "cell_type": "markdown",
   "metadata": {},
   "source": [
    "Создайте объект Series с данными из списка, состоящего из названий семи цветов радуги\n",
    "\n",
    "Создайте объект Series с данными из списка, состоящего из 6 случайных целых чисел от 3 до 7 включительно  и индексами из списка, состоящего из букв a, b, c, d, e, f"
   ]
  },
  {
   "cell_type": "code",
   "execution_count": 1,
   "metadata": {},
   "outputs": [],
   "source": [
    "import pandas as pd\n",
    "import numpy as np\n",
    "series = pd.Series(['red', 'yellow', 'blue', 'orange', 'green', 'dark_blue', 'violet'])\n",
    "series_2 = pd.Series(np.random.randint(3,8,6), ['a','b','c','d','e','f'])\n"
   ]
  },
  {
   "cell_type": "code",
   "execution_count": 2,
   "metadata": {},
   "outputs": [
    {
     "data": {
      "text/plain": [
       "0          red\n",
       "1       yellow\n",
       "2         blue\n",
       "3       orange\n",
       "4        green\n",
       "5    dark_blue\n",
       "6       violet\n",
       "dtype: object"
      ]
     },
     "execution_count": 2,
     "metadata": {},
     "output_type": "execute_result"
    }
   ],
   "source": [
    "series"
   ]
  },
  {
   "cell_type": "code",
   "execution_count": 3,
   "metadata": {},
   "outputs": [
    {
     "data": {
      "text/plain": [
       "a    7\n",
       "b    3\n",
       "c    4\n",
       "d    4\n",
       "e    5\n",
       "f    6\n",
       "dtype: int32"
      ]
     },
     "execution_count": 3,
     "metadata": {},
     "output_type": "execute_result"
    }
   ],
   "source": [
    "series_2"
   ]
  },
  {
   "cell_type": "code",
   "execution_count": null,
   "metadata": {},
   "outputs": [],
   "source": []
  }
 ],
 "metadata": {
  "kernelspec": {
   "display_name": "Python 3",
   "language": "python",
   "name": "python3"
  },
  "language_info": {
   "codemirror_mode": {
    "name": "ipython",
    "version": 3
   },
   "file_extension": ".py",
   "mimetype": "text/x-python",
   "name": "python",
   "nbconvert_exporter": "python",
   "pygments_lexer": "ipython3",
   "version": "3.7.3"
  }
 },
 "nbformat": 4,
 "nbformat_minor": 2
}
