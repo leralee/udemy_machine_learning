{
 "cells": [
  {
   "cell_type": "code",
   "execution_count": 2,
   "metadata": {},
   "outputs": [],
   "source": [
    "import numpy as np\n",
    "\n"
   ]
  },
  {
   "cell_type": "markdown",
   "metadata": {},
   "source": [
    "Создайте массив , состоящий из 10 случайных целых чисел из диапазона от 1 до 20, затем создайте массив состоящий из 5 элементов, начиная со 2 по порядку. Выведите значения обоих массивов при помощи функции print()\n",
    "\n",
    "Создайте массив , состоящий из 10 случайных целых чисел из диапазона от 0 до 20, затем создайте массив состоящий из элементов, начиная с третьего по порядку до последнего. Выведите значения обоих массивов при помощи функции print()\n",
    "\n",
    "Создайте двумерный массив , состоящий из случайных целых чисел из диапазона от 3 до 11, в котором 4 строки и 3 столбца. Затем создайте массив состоящий из элементов , второй и третьей строки и первого и второго столбца по порядку. Выведите значения обоих массивов при помощи функции print()\n",
    "\n",
    "Создайте двумерный массив , состоящий из случайных целых чисел из диапазона от 0 до 9, в котором 4 строки и 6 столбцов. Затем создайте массив состоящий из элементов , которые больше числа 3. Выведите значения обоих массивов при помощи функции print()"
   ]
  },
  {
   "cell_type": "code",
   "execution_count": 29,
   "metadata": {},
   "outputs": [
    {
     "name": "stdout",
     "output_type": "stream",
     "text": [
      "[20 16  5 20 10 18  6 20  7 15]\n",
      "[ 5 20 10 18  6]\n"
     ]
    }
   ],
   "source": [
    "array = np.random.randint(1,21,10)\n",
    "print(array)\n",
    "array_2 = array[2:7]\n",
    "print(array_2)"
   ]
  },
  {
   "cell_type": "code",
   "execution_count": 30,
   "metadata": {},
   "outputs": [
    {
     "name": "stdout",
     "output_type": "stream",
     "text": [
      "[ 0  8  8  0  4 10 19  4 12 12]\n",
      "[ 0  4 10 19  4 12 12]\n"
     ]
    }
   ],
   "source": [
    "array = np.random.randint(0,20,10)\n",
    "array_2 = array[3:]\n",
    "print(array)\n",
    "print(array_2)"
   ]
  },
  {
   "cell_type": "code",
   "execution_count": 3,
   "metadata": {},
   "outputs": [
    {
     "name": "stdout",
     "output_type": "stream",
     "text": [
      "[[ 9  3  5]\n",
      " [10  6  9]\n",
      " [ 4  9 11]\n",
      " [11  6  9]]\n",
      "\n",
      "[[10  6  9]\n",
      " [ 4  9 11]]\n"
     ]
    }
   ],
   "source": [
    "array = np.random.randint(3,12, 12).reshape(4,3)\n",
    "print(array)\n",
    "print()\n",
    "print(array[1:3][0:2])"
   ]
  },
  {
   "cell_type": "code",
   "execution_count": 36,
   "metadata": {},
   "outputs": [
    {
     "name": "stdout",
     "output_type": "stream",
     "text": [
      "[[4 6 7 8 2 2]\n",
      " [3 4 6 6 0 3]\n",
      " [1 6 2 8 5 6]\n",
      " [4 3 2 4 0 4]]\n",
      "[4 6 7 8 4 6 6 6 8 5 6 4 4 4]\n"
     ]
    }
   ],
   "source": [
    "array = np.random.randint(0,9, 24).reshape(4,6)\n",
    "print(array)\n",
    "print(array[array>3])\n"
   ]
  },
  {
   "cell_type": "code",
   "execution_count": null,
   "metadata": {},
   "outputs": [],
   "source": []
  }
 ],
 "metadata": {
  "kernelspec": {
   "display_name": "Python 3",
   "language": "python",
   "name": "python3"
  },
  "language_info": {
   "codemirror_mode": {
    "name": "ipython",
    "version": 3
   },
   "file_extension": ".py",
   "mimetype": "text/x-python",
   "name": "python",
   "nbconvert_exporter": "python",
   "pygments_lexer": "ipython3",
   "version": "3.7.3"
  }
 },
 "nbformat": 4,
 "nbformat_minor": 2
}
